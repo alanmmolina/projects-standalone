{
 "cells": [
  {
   "cell_type": "code",
   "execution_count": 10,
   "id": "f0e7b6b4",
   "metadata": {},
   "outputs": [],
   "source": [
    "class Character:\n",
    "\n",
    "    def __init__(self, name: str, hp: int = 100, level: int = 1):\n",
    "        \"\"\"Create a character with a name, hit points (hp), and level\"\"\"\n",
    "        if hp <= 0:\n",
    "            raise ValueError(\"HP must be positive!\")\n",
    "        if level < 1:\n",
    "            raise ValueError(\"Level must be at least 1!\")\n",
    "\n",
    "        self.name: str = name\n",
    "        self.hp: int = hp\n",
    "        self.level: int = level\n",
    "        self.inventory: list = []\n",
    "\n",
    "    @property\n",
    "    def is_alive(self) -> bool:\n",
    "        return self.hp > 0\n",
    "    \n",
    "    def __repr__(self) -> str:\n",
    "        \"\"\"For developers: unambiguous and ideally eval()-able\"\"\"\n",
    "        return f\"Character(name={self.name!r}, hp={self.hp}, level={self.level})\"\n",
    "    \n",
    "    def __str__(self) -> str:\n",
    "        \"\"\"For users: readable and informative\"\"\"\n",
    "        status = \"💀\" if not self.is_alive else \"💚\" if self.hp > 80 else \"❤️\"\n",
    "        return f\"{status} {self.name} (Lv.{self.level}) - {self.hp}/100 HP\"\n",
    "\n",
    "    def __eq__(self, other) -> bool:\n",
    "        \"\"\"Characters are equal if they have the same name and level\"\"\"\n",
    "        if not isinstance(other, Character):\n",
    "            return NotImplemented\n",
    "        return self.name == other.name and self.level == other.level\n",
    "    \n",
    "    def __lt__(self, other) -> bool:\n",
    "        \"\"\"Compare characters by level for sorting.\"\"\"\n",
    "        if not isinstance(other, Character):\n",
    "            return NotImplemented\n",
    "        return self.level < other.level\n",
    "    \n",
    "    def __hash__(self):\n",
    "        \"\"\"Make characters hashable for use in sets/dicts\"\"\"\n",
    "        return hash((self.name, self.level))\n"
   ]
  },
  {
   "cell_type": "code",
   "execution_count": 11,
   "id": "9f9e6fe2",
   "metadata": {},
   "outputs": [],
   "source": [
    "class Skill:\n",
    "    def __init__(self, name: str, damage: int):\n",
    "        \"\"\"Create a skill with a name and damage value\"\"\"\n",
    "        self.name: str = name\n",
    "        self.damage: int = damage\n",
    "        self.usage: int = 0\n",
    "\n",
    "    def __call__(self, caster: Character, target: Character) -> str:\n",
    "        \"\"\"Use the skill on a target, modifying the target's HP\"\"\"\n",
    "        self.usage += 1\n",
    "        target.hp -= self.damage\n",
    "        return f\"{caster.name} hits {target.name} with {self.name} for {self.damage} damage!\""
   ]
  },
  {
   "cell_type": "code",
   "execution_count": 12,
   "id": "d54b62ce",
   "metadata": {},
   "outputs": [],
   "source": [
    "class Mage(Character):\n",
    "    def __init__(self, name: str, **kwargs):\n",
    "        \"\"\"Create a Mage character with a fireball skill\"\"\"\n",
    "        super().__init__(name, **kwargs)\n",
    "        self.fireball = Skill(name=\"Fireball\", damage=50)"
   ]
  },
  {
   "cell_type": "code",
   "execution_count": 13,
   "id": "04bd9860",
   "metadata": {},
   "outputs": [],
   "source": [
    "mage = Mage(\"Gandalf\", level=10)\n",
    "enemy = Character(\"Orc\", hp=80)"
   ]
  },
  {
   "cell_type": "code",
   "execution_count": 14,
   "id": "4d1c7e3a",
   "metadata": {},
   "outputs": [],
   "source": [
    "result = mage.fireball(mage, enemy)"
   ]
  },
  {
   "cell_type": "code",
   "execution_count": 15,
   "id": "f047c74f",
   "metadata": {},
   "outputs": [
    {
     "name": "stdout",
     "output_type": "stream",
     "text": [
      "Gandalf hits Orc with Fireball for 50 damage!\n"
     ]
    }
   ],
   "source": [
    "print(result)"
   ]
  },
  {
   "cell_type": "code",
   "execution_count": 16,
   "id": "618cb1d4",
   "metadata": {},
   "outputs": [
    {
     "name": "stdout",
     "output_type": "stream",
     "text": [
      "Fireball used 1 times\n"
     ]
    }
   ],
   "source": [
    "print(f\"Fireball used {mage.fireball.usage} times\")"
   ]
  }
 ],
 "metadata": {
  "kernelspec": {
   "display_name": ".venv",
   "language": "python",
   "name": "python3"
  },
  "language_info": {
   "codemirror_mode": {
    "name": "ipython",
    "version": 3
   },
   "file_extension": ".py",
   "mimetype": "text/x-python",
   "name": "python",
   "nbconvert_exporter": "python",
   "pygments_lexer": "ipython3",
   "version": "3.13.0"
  }
 },
 "nbformat": 4,
 "nbformat_minor": 5
}
