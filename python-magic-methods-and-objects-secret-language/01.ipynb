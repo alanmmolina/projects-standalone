{
 "cells": [
  {
   "cell_type": "code",
   "execution_count": 1,
   "id": "11006aad",
   "metadata": {},
   "outputs": [],
   "source": [
    "class Character:\n",
    "    def __init__(self, name: str, hp: int = 100, level: int = 1):\n",
    "        \"\"\"Create a character with a name, hit points (hp), and level.\"\"\"\n",
    "        if hp <= 0:\n",
    "            raise ValueError(\"HP must be positive!\")\n",
    "        if level < 1:\n",
    "            raise ValueError(\"Level must be at least 1!\")\n",
    "\n",
    "        self.name: str = name\n",
    "        self.hp: int = hp\n",
    "        self.max_hp: int = hp\n",
    "        self.level: int = level\n",
    "        self.inventory: list = []\n",
    "\n",
    "    @property\n",
    "    def is_alive(self) -> bool:\n",
    "        \"\"\"Check if the character is alive.\"\"\"\n",
    "        return self.hp > 0"
   ]
  }
 ],
 "metadata": {
  "kernelspec": {
   "display_name": ".venv",
   "language": "python",
   "name": "python3"
  },
  "language_info": {
   "codemirror_mode": {
    "name": "ipython",
    "version": 3
   },
   "file_extension": ".py",
   "mimetype": "text/x-python",
   "name": "python",
   "nbconvert_exporter": "python",
   "pygments_lexer": "ipython3",
   "version": "3.13.0"
  }
 },
 "nbformat": 4,
 "nbformat_minor": 5
}
