{
 "cells": [
  {
   "cell_type": "code",
   "execution_count": 1,
   "id": "39eb97f6",
   "metadata": {},
   "outputs": [],
   "source": [
    "class Character:\n",
    "\n",
    "    def __init__(self, name: str, hp: int = 100, level: int = 1):\n",
    "        \"\"\"Create a character with a name, hit points (hp), and level\"\"\"\n",
    "        if hp <= 0:\n",
    "            raise ValueError(\"HP must be positive!\")\n",
    "        if level < 1:\n",
    "            raise ValueError(\"Level must be at least 1!\")\n",
    "\n",
    "        self.name: str = name\n",
    "        self.hp: int = hp\n",
    "        self.level: int = level\n",
    "        self.inventory: list = []\n",
    "\n",
    "    @property\n",
    "    def is_alive(self) -> bool:\n",
    "        return self.hp > 0\n",
    "    \n",
    "    def __repr__(self) -> str:\n",
    "        \"\"\"For developers: unambiguous and ideally eval()-able\"\"\"\n",
    "        return f\"Character(name={self.name!r}, hp={self.hp}, level={self.level})\"\n",
    "    \n",
    "    def __str__(self) -> str:\n",
    "        \"\"\"For users: readable and informative\"\"\"\n",
    "        status = \"💀\" if not self.is_alive else \"💚\" if self.hp > 80 else \"❤️\"\n",
    "        return f\"{status} {self.name} (Lv.{self.level}) - {self.hp}/100 HP\"\n",
    "\n",
    "    def __eq__(self, other) -> bool:\n",
    "        \"\"\"Characters are equal if they have the same name and level\"\"\"\n",
    "        if not isinstance(other, Character):\n",
    "            return NotImplemented\n",
    "        return self.name == other.name and self.level == other.level\n",
    "    \n",
    "    def __lt__(self, other) -> bool:\n",
    "        \"\"\"Compare characters by level for sorting.\"\"\"\n",
    "        if not isinstance(other, Character):\n",
    "            return NotImplemented\n",
    "        return self.level < other.level\n",
    "    \n",
    "    def __hash__(self):\n",
    "        \"\"\"Make characters hashable for use in sets/dicts\"\"\"\n",
    "        return hash((self.name, self.level))\n"
   ]
  },
  {
   "cell_type": "code",
   "execution_count": 2,
   "id": "fa6c8f46",
   "metadata": {},
   "outputs": [],
   "source": [
    "class Boss(Character):\n",
    "    def __init__(self, name, **kwargs):\n",
    "        super().__init__(name, **kwargs)\n",
    "        \"\"\"Initialize a boss character with default stats\"\"\"\n",
    "        super().__setattr__(\"_stats\", {\"strength\": 10, \"agility\": 10, \"intelligence\": 10})\n",
    "        # ↑ \"stats\" is a common term in game development\n",
    "        # and refers to a character's attributes or status values.\n",
    "\n",
    "    def __getattr__(self, name: str) -> int:\n",
    "        \"\"\"Called when attribute isn't found normally\"\"\"\n",
    "        stats = self.__dict__.get(\"_stats\", {})  # Avoid triggering recursion\n",
    "        if name in stats:\n",
    "            return stats[name]\n",
    "        raise AttributeError(f\"'{self.__class__.__name__}' has no attribute '{name}'\")\n",
    "\n",
    "    def __setattr__(self, name: str, value: int):\n",
    "        \"\"\"Intercept stat assignments with validation.\"\"\"\n",
    "        stats = self.__dict__.get(\"_stats\")\n",
    "        if stats is not None and name in stats:\n",
    "            if value < 0:\n",
    "                raise ValueError(f\"{name} cannot be negative\")\n",
    "            stats[name] = value\n",
    "        else:\n",
    "            super().__setattr__(name, value)"
   ]
  },
  {
   "cell_type": "code",
   "execution_count": 3,
   "id": "b94c737f",
   "metadata": {},
   "outputs": [],
   "source": [
    "boss = Boss(name=\"Bowser\")"
   ]
  },
  {
   "cell_type": "code",
   "execution_count": 4,
   "id": "d9b3b7d8",
   "metadata": {},
   "outputs": [
    {
     "name": "stdout",
     "output_type": "stream",
     "text": [
      "10\n"
     ]
    }
   ],
   "source": [
    "print(boss.strength)"
   ]
  },
  {
   "cell_type": "code",
   "execution_count": 5,
   "id": "d16ec3cf",
   "metadata": {},
   "outputs": [
    {
     "name": "stdout",
     "output_type": "stream",
     "text": [
      "15\n"
     ]
    }
   ],
   "source": [
    "boss.strength = 15\n",
    "print(boss.strength)"
   ]
  },
  {
   "cell_type": "code",
   "execution_count": 6,
   "id": "90efdce0",
   "metadata": {},
   "outputs": [
    {
     "name": "stdout",
     "output_type": "stream",
     "text": [
      "Validation: agility cannot be negative\n"
     ]
    }
   ],
   "source": [
    "try:\n",
    "    boss.agility = -5\n",
    "except ValueError as error:\n",
    "    print(f\"Validation: {error}\")"
   ]
  }
 ],
 "metadata": {
  "kernelspec": {
   "display_name": ".venv",
   "language": "python",
   "name": "python3"
  },
  "language_info": {
   "codemirror_mode": {
    "name": "ipython",
    "version": 3
   },
   "file_extension": ".py",
   "mimetype": "text/x-python",
   "name": "python",
   "nbconvert_exporter": "python",
   "pygments_lexer": "ipython3",
   "version": "3.13.0"
  }
 },
 "nbformat": 4,
 "nbformat_minor": 5
}
