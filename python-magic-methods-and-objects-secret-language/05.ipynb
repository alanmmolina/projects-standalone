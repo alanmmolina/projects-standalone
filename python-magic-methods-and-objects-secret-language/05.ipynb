{
 "cells": [
  {
   "cell_type": "code",
   "execution_count": 2,
   "id": "c8a74c5f",
   "metadata": {},
   "outputs": [],
   "source": [
    "class Inventory:\n",
    "    def __init__(self):\n",
    "        \"\"\"Initialize an empty inventory.\"\"\"\n",
    "        self._items = {}\n",
    "\n",
    "    def __setitem__(self, slot, item):\n",
    "        \"\"\"Set an item in a specific slot.\"\"\"\n",
    "        self._items[slot] = item\n",
    "\n",
    "    def __getitem__(self, slot):\n",
    "        \"\"\"Get an item from a specific slot.\"\"\"\n",
    "        return self._items[slot]\n",
    "\n",
    "    def __delitem__(self, slot):\n",
    "        \"\"\"Delete an item from a specific slot.\"\"\"\n",
    "        del self._items[slot]\n",
    "\n",
    "    def __contains__(self, item) -> bool:\n",
    "        \"\"\"Check if an item is in the inventory.\"\"\"\n",
    "        return item in self._items.values()\n",
    "\n",
    "    def __len__(self) -> int:\n",
    "        \"\"\"Return the number of items in the inventory.\"\"\"\n",
    "        return len(self._items)\n",
    "\n",
    "    def __iter__(self):\n",
    "        \"\"\"Return an iterator over the items in the inventory.\"\"\"\n",
    "        return iter(self._items.values())\n",
    "\n",
    "    def __bool__(self) -> bool:\n",
    "        \"\"\"Return True if the inventory has items, False otherwise.\"\"\"\n",
    "        return len(self._items) > 0"
   ]
  },
  {
   "cell_type": "code",
   "execution_count": 3,
   "id": "ac7a69b8",
   "metadata": {},
   "outputs": [],
   "source": [
    "inventory = Inventory()\n",
    "inventory[\"weapon\"] = \"Flame Sword\"\n",
    "inventory[\"armor\"] = \"Steel Plate\""
   ]
  },
  {
   "cell_type": "code",
   "execution_count": 4,
   "id": "d3058edb",
   "metadata": {},
   "outputs": [
    {
     "name": "stdout",
     "output_type": "stream",
     "text": [
      "2\n"
     ]
    }
   ],
   "source": [
    "print(len(inventory))"
   ]
  },
  {
   "cell_type": "code",
   "execution_count": 5,
   "id": "504cf76c",
   "metadata": {},
   "outputs": [
    {
     "name": "stdout",
     "output_type": "stream",
     "text": [
      "True\n"
     ]
    }
   ],
   "source": [
    "print(\"Flame Sword\" in inventory)"
   ]
  },
  {
   "cell_type": "code",
   "execution_count": 6,
   "id": "03c721fb",
   "metadata": {},
   "outputs": [
    {
     "name": "stdout",
     "output_type": "stream",
     "text": [
      "- Flame Sword\n",
      "- Steel Plate\n"
     ]
    }
   ],
   "source": [
    "for item in inventory:\n",
    "    print(f\"- {item}\")"
   ]
  }
 ],
 "metadata": {
  "kernelspec": {
   "display_name": ".venv",
   "language": "python",
   "name": "python3"
  },
  "language_info": {
   "codemirror_mode": {
    "name": "ipython",
    "version": 3
   },
   "file_extension": ".py",
   "mimetype": "text/x-python",
   "name": "python",
   "nbconvert_exporter": "python",
   "pygments_lexer": "ipython3",
   "version": "3.13.0"
  }
 },
 "nbformat": 4,
 "nbformat_minor": 5
}
