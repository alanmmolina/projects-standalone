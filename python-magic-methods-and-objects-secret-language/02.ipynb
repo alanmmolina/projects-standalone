{
 "cells": [
  {
   "cell_type": "code",
   "execution_count": 7,
   "id": "28d7aa5f",
   "metadata": {},
   "outputs": [],
   "source": [
    "class Character:\n",
    "    def __init__(self, name: str, hp: int = 100, level: int = 1):\n",
    "        \"\"\"Create a character with a name, hit points (hp), and level.\"\"\"\n",
    "        if hp <= 0:\n",
    "            raise ValueError(\"HP must be positive!\")\n",
    "        if level < 1:\n",
    "            raise ValueError(\"Level must be at least 1!\")\n",
    "\n",
    "        self.name: str = name\n",
    "        self.hp: int = hp\n",
    "        self.level: int = level\n",
    "        self.inventory: list = []\n",
    "\n",
    "    @property\n",
    "    def is_alive(self) -> bool:\n",
    "        return self.hp > 0\n",
    "    \n",
    "    def __repr__(self) -> str:\n",
    "        \"\"\"For developers: unambiguous and ideally eval()-able\"\"\"\n",
    "        return f\"Character(name={self.name!r}, hp={self.hp}, level={self.level})\"\n",
    "    \n",
    "    def __str__(self) -> str:\n",
    "        \"\"\"For users: readable and informative\"\"\"\n",
    "        status = \"💀\" if not self.is_alive else \"💚\" if self.hp > 80 else \"❤️\"\n",
    "        return f\"{status} {self.name} (Lv.{self.level}) - {self.hp}/100 HP\"\n"
   ]
  },
  {
   "cell_type": "code",
   "execution_count": 8,
   "id": "9cfb6ab9",
   "metadata": {},
   "outputs": [],
   "source": [
    "hero = Character(\"Joel\", hp=75, level=5)"
   ]
  },
  {
   "cell_type": "code",
   "execution_count": 9,
   "id": "607c0a75",
   "metadata": {},
   "outputs": [
    {
     "name": "stdout",
     "output_type": "stream",
     "text": [
      "Character(name='Joel', hp=75, level=5)\n"
     ]
    }
   ],
   "source": [
    "print(repr(hero))"
   ]
  },
  {
   "cell_type": "code",
   "execution_count": 10,
   "id": "de0d30e8",
   "metadata": {},
   "outputs": [
    {
     "name": "stdout",
     "output_type": "stream",
     "text": [
      "❤️ Joel (Lv.5) - 75/100 HP\n"
     ]
    }
   ],
   "source": [
    "print(str(hero))"
   ]
  }
 ],
 "metadata": {
  "kernelspec": {
   "display_name": ".venv",
   "language": "python",
   "name": "python3"
  },
  "language_info": {
   "codemirror_mode": {
    "name": "ipython",
    "version": 3
   },
   "file_extension": ".py",
   "mimetype": "text/x-python",
   "name": "python",
   "nbconvert_exporter": "python",
   "pygments_lexer": "ipython3",
   "version": "3.13.0"
  }
 },
 "nbformat": 4,
 "nbformat_minor": 5
}
