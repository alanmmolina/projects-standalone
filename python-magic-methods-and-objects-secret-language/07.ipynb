{
 "cells": [
  {
   "cell_type": "code",
   "execution_count": 1,
   "id": "6a7e74f0",
   "metadata": {},
   "outputs": [],
   "source": [
    "class Character:\n",
    "\n",
    "    def __init__(self, name: str, hp: int = 100, level: int = 1):\n",
    "        \"\"\"Create a character with a name, hit points (hp), and level\"\"\"\n",
    "        if hp <= 0:\n",
    "            raise ValueError(\"HP must be positive!\")\n",
    "        if level < 1:\n",
    "            raise ValueError(\"Level must be at least 1!\")\n",
    "\n",
    "        self.name: str = name\n",
    "        self.hp: int = hp\n",
    "        self.level: int = level\n",
    "        self.inventory: list = []\n",
    "\n",
    "    @property\n",
    "    def is_alive(self) -> bool:\n",
    "        return self.hp > 0\n",
    "    \n",
    "    def __repr__(self) -> str:\n",
    "        \"\"\"For developers: unambiguous and ideally eval()-able\"\"\"\n",
    "        return f\"Character(name={self.name!r}, hp={self.hp}, level={self.level})\"\n",
    "    \n",
    "    def __str__(self) -> str:\n",
    "        \"\"\"For users: readable and informative\"\"\"\n",
    "        status = \"💀\" if not self.is_alive else \"💚\" if self.hp > 80 else \"❤️\"\n",
    "        return f\"{status} {self.name} (Lv.{self.level}) - {self.hp}/100 HP\"\n",
    "\n",
    "    def __eq__(self, other) -> bool:\n",
    "        \"\"\"Characters are equal if they have the same name and level\"\"\"\n",
    "        if not isinstance(other, Character):\n",
    "            return NotImplemented\n",
    "        return self.name == other.name and self.level == other.level\n",
    "    \n",
    "    def __lt__(self, other) -> bool:\n",
    "        \"\"\"Compare characters by level for sorting.\"\"\"\n",
    "        if not isinstance(other, Character):\n",
    "            return NotImplemented\n",
    "        return self.level < other.level\n",
    "    \n",
    "    def __hash__(self):\n",
    "        \"\"\"Make characters hashable for use in sets/dicts\"\"\"\n",
    "        return hash((self.name, self.level))"
   ]
  },
  {
   "cell_type": "code",
   "execution_count": 2,
   "id": "6c972b7d",
   "metadata": {},
   "outputs": [],
   "source": [
    "class Player:\n",
    "    def __init__(self, name: str):\n",
    "        \"\"\"Represents a player in the game.\"\"\"\n",
    "        self.name: str = name\n",
    "        self.character: Character | None = None"
   ]
  },
  {
   "cell_type": "code",
   "execution_count": 3,
   "id": "b895a063",
   "metadata": {},
   "outputs": [],
   "source": [
    "class Session:\n",
    "    def __init__(self, player: Player, character: Character):\n",
    "        \"\"\"Initialize a game session with a player and their character.\"\"\"\n",
    "        self.player: Player = player\n",
    "        self.character: Character = character\n",
    "\n",
    "    def __enter__(self):\n",
    "        \"\"\"Start the session, assigning the character to the player.\"\"\"\n",
    "        print(f\"Starting session for '{self.player.name}'\")\n",
    "        self.player.character = self.character\n",
    "        return self\n",
    "\n",
    "    def __exit__(self, exc_type, exc_val, exc_tb):\n",
    "        \"\"\"End the session, cleaning up resources.\"\"\"\n",
    "        print(f\"Ending session for '{self.player.name}'\")\n",
    "        if exc_type:\n",
    "            print(f\"Session ended due to error: {exc_val}\")\n",
    "        return False  # do NOT suppress exceptions"
   ]
  },
  {
   "cell_type": "code",
   "execution_count": 4,
   "id": "eee3f1b2",
   "metadata": {},
   "outputs": [],
   "source": [
    "player = Player(name=\"Alan\")\n",
    "character = Character(name=\"Joel\")"
   ]
  },
  {
   "cell_type": "code",
   "execution_count": 5,
   "id": "e874a2ca",
   "metadata": {},
   "outputs": [
    {
     "name": "stdout",
     "output_type": "stream",
     "text": [
      "Starting session for 'Alan'\n",
      "'Alan' is playing as 'Joel'\n",
      "Ending session for 'Alan'\n"
     ]
    }
   ],
   "source": [
    "with Session(player=player, character=character) as session:\n",
    "    print(f\"'{session.player.name}' is playing as '{session.character.name}'\")"
   ]
  }
 ],
 "metadata": {
  "kernelspec": {
   "display_name": ".venv",
   "language": "python",
   "name": "python3"
  },
  "language_info": {
   "codemirror_mode": {
    "name": "ipython",
    "version": 3
   },
   "file_extension": ".py",
   "mimetype": "text/x-python",
   "name": "python",
   "nbconvert_exporter": "python",
   "pygments_lexer": "ipython3",
   "version": "3.13.0"
  }
 },
 "nbformat": 4,
 "nbformat_minor": 5
}
