{
 "cells": [
  {
   "cell_type": "code",
   "execution_count": null,
   "id": "e6d811db",
   "metadata": {},
   "outputs": [],
   "source": [
    "from __future__ import annotations"
   ]
  },
  {
   "cell_type": "code",
   "execution_count": null,
   "id": "e073ecdc",
   "metadata": {},
   "outputs": [],
   "source": [
    "class SlowContainer:\n",
    "    def __len__(self) -> int:\n",
    "        # Recalculating every time is slow\n",
    "        return sum(1 for item in self.items if item is not None)\n",
    "\n",
    "# DO: Cache expensive calculations\n",
    "class FastContainer:\n",
    "    def __init__(self):\n",
    "        self.items = []\n",
    "        self._count = 0\n",
    "    \n",
    "    def __len__(self):\n",
    "        return self._count\n",
    "    \n",
    "    def append(self, item):\n",
    "        self.items.append(item)\n",
    "        self._count += 1"
   ]
  },
  {
   "cell_type": "code",
   "execution_count": 6,
   "id": "0fa5497e",
   "metadata": {},
   "outputs": [
    {
     "name": "stdout",
     "output_type": "stream",
     "text": [
      "(4, 6)\n"
     ]
    }
   ],
   "source": [
    "class Point:\n",
    "    def __init__(self, x: int, y: int):\n",
    "        \"\"\"Initialize a Point with x and y coordinates.\"\"\"\n",
    "        self.x, self.y = x, y\n",
    "\n",
    "    def __add__(self, other) -> Point:\n",
    "        \"\"\"Add another Point to this Point.\"\"\"\n",
    "        if isinstance(other, Point):\n",
    "            return Point(self.x + other.x, self.y + other.y)\n",
    "        return NotImplemented\n",
    "\n",
    "    def __radd__(self, other) -> Point:\n",
    "        \"\"\"Handle addition when this Point is on the right side.\"\"\"\n",
    "        if isinstance(other, tuple) and len(other) == 2:\n",
    "            return Point(self.x + other[0], self.y + other[1])\n",
    "        return NotImplemented\n",
    "\n",
    "# e.g.,\n",
    "point = Point(1, 2)\n",
    "result = (3, 4) + point  # __add__ fails, __radd__ succeeds\n",
    "print(f\"({result.x}, {result.y})\")  # (4, 6)"
   ]
  }
 ],
 "metadata": {
  "kernelspec": {
   "display_name": "magic-methods",
   "language": "python",
   "name": "python3"
  },
  "language_info": {
   "codemirror_mode": {
    "name": "ipython",
    "version": 3
   },
   "file_extension": ".py",
   "mimetype": "text/x-python",
   "name": "python",
   "nbconvert_exporter": "python",
   "pygments_lexer": "ipython3",
   "version": "3.13.0"
  }
 },
 "nbformat": 4,
 "nbformat_minor": 5
}
