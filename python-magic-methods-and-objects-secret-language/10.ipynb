{
 "cells": [
  {
   "cell_type": "code",
   "execution_count": 1,
   "id": "3f558206",
   "metadata": {},
   "outputs": [],
   "source": [
    "from __future__ import annotations"
   ]
  },
  {
   "cell_type": "code",
   "execution_count": 2,
   "id": "7af2c8af",
   "metadata": {},
   "outputs": [],
   "source": [
    "class Inventory:\n",
    "    \"\"\"A simple inventory class that allows to store items in slots.\"\"\"\n",
    "\n",
    "    def __init__(self):\n",
    "        \"\"\"Initialize an empty inventory.\"\"\"\n",
    "        self._items = {}\n",
    "\n",
    "    def __setitem__(self, slot, item):\n",
    "        \"\"\"Set an item in a specific slot.\"\"\"\n",
    "        self._items[slot] = item\n",
    "\n",
    "    def __getitem__(self, slot):\n",
    "        \"\"\"Get an item from a specific slot.\"\"\"\n",
    "        return self._items[slot]\n",
    "\n",
    "    def __delitem__(self, slot):\n",
    "        \"\"\"Delete an item from a specific slot.\"\"\"\n",
    "        del self._items[slot]\n",
    "\n",
    "    def __contains__(self, item) -> bool:\n",
    "        \"\"\"Check if an item is in the inventory.\"\"\"\n",
    "        return item in self._items.values()\n",
    "\n",
    "    def __len__(self) -> int:\n",
    "        \"\"\"Return the number of items in the inventory.\"\"\"\n",
    "        return len(self._items)\n",
    "\n",
    "    def __iter__(self):\n",
    "        \"\"\"Return an iterator over the items in the inventory.\"\"\"\n",
    "        return iter(self._items.values())\n",
    "\n",
    "    def __bool__(self) -> bool:\n",
    "        \"\"\"Return True if the inventory has items, False otherwise.\"\"\"\n",
    "        return len(self._items) > 0"
   ]
  },
  {
   "cell_type": "code",
   "execution_count": 3,
   "id": "11b7e0ed",
   "metadata": {},
   "outputs": [],
   "source": [
    "class Character:\n",
    "\n",
    "    def __init__(self, name: str, hp: int = 100, level: int = 1):\n",
    "        \"\"\"Create a character with a name, hit points (hp), and level\"\"\"\n",
    "        if hp <= 0:\n",
    "            raise ValueError(\"HP must be positive!\")\n",
    "        if level < 1:\n",
    "            raise ValueError(\"Level must be at least 1!\")\n",
    "\n",
    "        self.name: str = name\n",
    "        self.hp: int = hp\n",
    "        self.level: int = level\n",
    "\n",
    "        self.inventory: Inventory = Inventory()\n",
    "        self.skills: dict = {}\n",
    "\n",
    "    @property\n",
    "    def is_alive(self) -> bool:\n",
    "        return self.hp > 0\n",
    "    \n",
    "    def __repr__(self) -> str:\n",
    "        \"\"\"For developers: unambiguous and ideally eval()-able\"\"\"\n",
    "        return f\"Character(name={self.name!r}, hp={self.hp}, level={self.level})\"\n",
    "    \n",
    "    def __str__(self) -> str:\n",
    "        \"\"\"For users: readable and informative\"\"\"\n",
    "        status = \"💀\" if not self.is_alive else \"💚\" if self.hp > 80 else \"❤️\"\n",
    "        return f\"{status} {self.name} (Lv.{self.level}) - {self.hp}/100 HP\"\n",
    "\n",
    "    def __eq__(self, other) -> bool:\n",
    "        \"\"\"Characters are equal if they have the same name and level\"\"\"\n",
    "        if not isinstance(other, Character):\n",
    "            return NotImplemented\n",
    "        return self.name == other.name and self.level == other.level\n",
    "    \n",
    "    def __lt__(self, other) -> bool:\n",
    "        \"\"\"Compare characters by level for sorting.\"\"\"\n",
    "        if not isinstance(other, Character):\n",
    "            return NotImplemented\n",
    "        return self.level < other.level\n",
    "    \n",
    "    def __hash__(self) -> int:\n",
    "        \"\"\"Make characters hashable for use in sets/dicts\"\"\"\n",
    "        return hash((self.name, self.level))\n",
    "\n",
    "    def __bool__(self) -> bool:\n",
    "        \"\"\"Check if character is alive\"\"\"\n",
    "        return self.is_alive\n",
    "    \n",
    "    def __contains__(self, item: str) -> bool:\n",
    "        \"\"\"Check if character has item\"\"\"\n",
    "        return item in self.inventory\n",
    "    \n",
    "    def __call__(self, skill: str, target: Character | None = None):\n",
    "        \"\"\"Use a skill\"\"\"\n",
    "        if skill in self.skills:\n",
    "            return self.skills[skill](self, target)\n",
    "        return f\"'{self.name}' doesn't know '{skill}'\"\n"
   ]
  },
  {
   "cell_type": "code",
   "execution_count": 4,
   "id": "14938bb6",
   "metadata": {},
   "outputs": [],
   "source": [
    "class Skill:\n",
    "    def __init__(self, name: str, damage: int):\n",
    "        \"\"\"Create a skill with a name and damage value\"\"\"\n",
    "        self.name: str = name\n",
    "        self.damage: int = damage\n",
    "        self.usage: int = 0\n",
    "\n",
    "    def __call__(self, caster: Character, target: Character) -> str:\n",
    "        \"\"\"Use the skill on a target, modifying the target's HP\"\"\"\n",
    "        self.usage += 1\n",
    "        target.hp -= self.damage\n",
    "        return f\"{caster.name} hits {target.name} with {self.name} for {self.damage} damage!\""
   ]
  },
  {
   "cell_type": "code",
   "execution_count": 5,
   "id": "9501c0c2",
   "metadata": {},
   "outputs": [],
   "source": [
    "aloy = Character(\"Aloy\")\n",
    "aloy.inventory[\"bow\"] = \"Hunter Bow\"\n",
    "aloy.skills[\"heal\"] = Skill(name=\"Berries\", damage=-10)  # negative damage = healing"
   ]
  },
  {
   "cell_type": "code",
   "execution_count": 6,
   "id": "edcedc8a",
   "metadata": {},
   "outputs": [
    {
     "name": "stdout",
     "output_type": "stream",
     "text": [
      "💚 Aloy (Lv.1) - 100/100 HP\n"
     ]
    }
   ],
   "source": [
    "print(aloy)"
   ]
  },
  {
   "cell_type": "code",
   "execution_count": 7,
   "id": "1f7a7597",
   "metadata": {},
   "outputs": [
    {
     "name": "stdout",
     "output_type": "stream",
     "text": [
      "True\n"
     ]
    }
   ],
   "source": [
    "print(bool(aloy))"
   ]
  },
  {
   "cell_type": "code",
   "execution_count": 8,
   "id": "096db7df",
   "metadata": {},
   "outputs": [
    {
     "name": "stdout",
     "output_type": "stream",
     "text": [
      "True\n"
     ]
    }
   ],
   "source": [
    "print(\"Hunter Bow\" in aloy)"
   ]
  },
  {
   "cell_type": "code",
   "execution_count": 9,
   "id": "7cf109f1",
   "metadata": {},
   "outputs": [
    {
     "name": "stdout",
     "output_type": "stream",
     "text": [
      "Aloy hits Aloy with Berries for -10 damage!\n"
     ]
    }
   ],
   "source": [
    "result = aloy(skill=\"heal\", target=aloy) # Use character as a function\n",
    "print(result)  # Aloy hits Aloy with Berries for -10 damage!"
   ]
  }
 ],
 "metadata": {
  "kernelspec": {
   "display_name": ".venv",
   "language": "python",
   "name": "python3"
  },
  "language_info": {
   "codemirror_mode": {
    "name": "ipython",
    "version": 3
   },
   "file_extension": ".py",
   "mimetype": "text/x-python",
   "name": "python",
   "nbconvert_exporter": "python",
   "pygments_lexer": "ipython3",
   "version": "3.13.0"
  }
 },
 "nbformat": 4,
 "nbformat_minor": 5
}
