{
 "cells": [
  {
   "cell_type": "code",
   "execution_count": 3,
   "id": "fd8a5660",
   "metadata": {},
   "outputs": [],
   "source": [
    "class Character:\n",
    "    def __init__(self, name: str, hp: int = 100, level: int = 1):\n",
    "        \"\"\"Create a character with a name, hit points (hp), and level.\"\"\"\n",
    "        if hp <= 0:\n",
    "            raise ValueError(\"HP must be positive!\")\n",
    "        if level < 1:\n",
    "            raise ValueError(\"Level must be at least 1!\")\n",
    "\n",
    "        self.name: str = name\n",
    "        self.hp: int = hp\n",
    "        self.level: int = level\n",
    "        self.inventory: list = []\n",
    "\n",
    "    @property\n",
    "    def is_alive(self) -> bool:\n",
    "        return self.hp > 0\n",
    "    \n",
    "    def __repr__(self) -> str:\n",
    "        \"\"\"For developers: unambiguous and ideally eval()-able\"\"\"\n",
    "        return f\"Character(name={self.name!r}, hp={self.hp}, level={self.level})\"\n",
    "    \n",
    "    def __str__(self) -> str:\n",
    "        \"\"\"For users: readable and informative\"\"\"\n",
    "        status = \"💀\" if not self.is_alive else \"💚\" if self.hp > 80 else \"❤️\"\n",
    "        return f\"{status} {self.name} (Lv.{self.level}) - {self.hp}/100 HP\"\n",
    "\n",
    "    def __eq__(self, other) -> bool:\n",
    "        \"\"\"Characters are equal if they have the same name and level\"\"\"\n",
    "        if not isinstance(other, Character):\n",
    "            return NotImplemented\n",
    "        return self.name == other.name and self.level == other.level\n",
    "    \n",
    "    def __lt__(self, other) -> bool:\n",
    "        \"\"\"Compare characters by level for sorting.\"\"\"\n",
    "        if not isinstance(other, Character):\n",
    "            return NotImplemented\n",
    "        return self.level < other.level\n",
    "    \n",
    "    def __hash__(self):\n",
    "        \"\"\"Make characters hashable for use in sets/dicts\"\"\"\n",
    "        return hash((self.name, self.level))"
   ]
  },
  {
   "cell_type": "code",
   "execution_count": 4,
   "id": "c87dd890",
   "metadata": {},
   "outputs": [],
   "source": [
    "party = [\n",
    "    Character(\"Tank\", level=3),\n",
    "    Character(\"Sniper\", level=8),\n",
    "    Character(\"Healer\", level=5)\n",
    "]"
   ]
  },
  {
   "cell_type": "code",
   "execution_count": 5,
   "id": "487d63f2",
   "metadata": {},
   "outputs": [
    {
     "name": "stdout",
     "output_type": "stream",
     "text": [
      "['Tank', 'Healer', 'Sniper']\n"
     ]
    }
   ],
   "source": [
    "party.sort()  # Sorts by level\n",
    "print([char.name for char in party])"
   ]
  }
 ],
 "metadata": {
  "kernelspec": {
   "display_name": ".venv",
   "language": "python",
   "name": "python3"
  },
  "language_info": {
   "codemirror_mode": {
    "name": "ipython",
    "version": 3
   },
   "file_extension": ".py",
   "mimetype": "text/x-python",
   "name": "python",
   "nbconvert_exporter": "python",
   "pygments_lexer": "ipython3",
   "version": "3.13.0"
  }
 },
 "nbformat": 4,
 "nbformat_minor": 5
}
