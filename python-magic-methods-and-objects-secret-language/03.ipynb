{
 "cells": [
  {
   "cell_type": "code",
   "execution_count": 4,
   "id": "3fa55c6b",
   "metadata": {},
   "outputs": [],
   "source": [
    "from __future__ import annotations\n",
    "# ↑ allows using class names before they're fully defined"
   ]
  },
  {
   "cell_type": "code",
   "execution_count": 5,
   "id": "8d053367",
   "metadata": {},
   "outputs": [],
   "source": [
    "class Damage:\n",
    "    def __init__(self, amount: int | float):\n",
    "        \"\"\"Initialize the Damage object with an amount.\"\"\"\n",
    "        self.amount: int | float = amount\n",
    "\n",
    "    def __add__(self, other: int | float | Damage) -> Damage:\n",
    "        \"\"\"Add another Damage object or a number.\"\"\"\n",
    "        if isinstance(other, Damage):\n",
    "            return Damage(self.amount + other.amount)\n",
    "        elif isinstance(other, (int, float)):\n",
    "            return Damage(self.amount + other)\n",
    "        return NotImplemented\n",
    "\n",
    "    def __mul__(self, factor: int | float) -> Damage:\n",
    "        \"\"\"Scale damage by a factor\"\"\"\n",
    "        if isinstance(factor, (int, float)):\n",
    "            return Damage(self.amount * factor)\n",
    "        return NotImplemented\n",
    "\n",
    "    def __str__(self) -> str:\n",
    "        \"\"\"String representation of the damage.\"\"\"\n",
    "        return f\"{self.amount} damage!\""
   ]
  },
  {
   "cell_type": "code",
   "execution_count": 6,
   "id": "07722932",
   "metadata": {},
   "outputs": [],
   "source": [
    "sword_damage = Damage(amount=50)\n",
    "spell_damage = Damage(amount=30)"
   ]
  },
  {
   "cell_type": "code",
   "execution_count": 7,
   "id": "5e860ac5",
   "metadata": {},
   "outputs": [
    {
     "name": "stdout",
     "output_type": "stream",
     "text": [
      "140 damage!\n"
     ]
    }
   ],
   "source": [
    "total = sword_damage * 2 + spell_damage + 10\n",
    "print(total)"
   ]
  }
 ],
 "metadata": {
  "kernelspec": {
   "display_name": ".venv",
   "language": "python",
   "name": "python3"
  },
  "language_info": {
   "codemirror_mode": {
    "name": "ipython",
    "version": 3
   },
   "file_extension": ".py",
   "mimetype": "text/x-python",
   "name": "python",
   "nbconvert_exporter": "python",
   "pygments_lexer": "ipython3",
   "version": "3.13.0"
  }
 },
 "nbformat": 4,
 "nbformat_minor": 5
}
